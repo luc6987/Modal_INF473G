{
 "cells": [
  {
   "cell_type": "code",
   "execution_count": null,
   "id": "ed46a109",
   "metadata": {},
   "outputs": [],
   "source": [
    "\"\"\"\n",
    "we have already processed the extraction of the keywords, now we try to visualize\n",
    "the results\n",
    "\n",
    "the first step is to integrate keyword_clusters.json and keywords_extracted.json\n",
    "\n",
    "and then we create a graph of paper based on the references \n",
    "\"\"\""
   ]
  }
 ],
 "metadata": {
  "language_info": {
   "name": "python"
  }
 },
 "nbformat": 4,
 "nbformat_minor": 5
}
